{
 "cells": [
  {
   "cell_type": "markdown",
   "metadata": {},
   "source": [
    "# Problem and a discussion of the background"
   ]
  },
  {
   "cell_type": "markdown",
   "metadata": {},
   "source": [
    "Warsaw and Berlin are capital cities of countries which are especially dear to me. With a 4.2% GDP growth in 2019, Poland ranks as the second European's fastest-growing economy. Warsaw as one of the fastest-growing capital cities in the EU is also the place where I want to live after my Master studies.  \n",
    "\n",
    "These capital cities are located in two neighboring countries. Germany with its capital Berlin is one of the biggest economic powers in the world.\n",
    "\n",
    "We want to check similarities in these two capital cities to find any patterns between venues which are located in these cities. \n",
    "Comparison of these two capitals will help people who are looking for answers related to similarities in these places. It will be also valuable for people who are curious and want to know places which are located in Warsaw and Berlin. "
   ]
  },
  {
   "cell_type": "markdown",
   "metadata": {},
   "source": [
    "# Description of the data"
   ]
  },
  {
   "cell_type": "markdown",
   "metadata": {},
   "source": [
    "For this project data available on the Foursquare's API will be used. It will be used to check data in Berlin and Warsaw in terms of their neighborhoods. The data used includes information about different venues and their neighborhoods \n",
    "\n",
    "One of the technique which will be used is KMeans to group neighborhoods with similar objects. Thanks to this algorithm it will be possible to say something about similarities and dissimilarities in these two capital cities. "
   ]
  }
 ],
 "metadata": {
  "kernelspec": {
   "display_name": "Python 3.5",
   "language": "python",
   "name": "python3"
  },
  "language_info": {
   "codemirror_mode": {
    "name": "ipython",
    "version": 3
   },
   "file_extension": ".py",
   "mimetype": "text/x-python",
   "name": "python",
   "nbconvert_exporter": "python",
   "pygments_lexer": "ipython3",
   "version": "3.5.5"
  }
 },
 "nbformat": 4,
 "nbformat_minor": 1
}
